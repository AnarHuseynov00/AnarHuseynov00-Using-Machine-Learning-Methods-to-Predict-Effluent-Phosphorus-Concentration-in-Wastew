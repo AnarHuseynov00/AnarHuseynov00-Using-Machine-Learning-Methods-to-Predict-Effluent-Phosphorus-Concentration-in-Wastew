{
  "nbformat": 4,
  "nbformat_minor": 0,
  "metadata": {
    "colab": {
      "name": "EECS545PROJECT.ipynb",
      "provenance": [],
      "collapsed_sections": []
    },
    "kernelspec": {
      "name": "python3",
      "display_name": "Python 3"
    },
    "language_info": {
      "name": "python"
    }
  },
  "cells": [
    {
      "cell_type": "code",
      "metadata": {
        "id": "51KOv_FIGwq5"
      },
      "source": [
        "import numpy as np\n",
        "import pandas as pd\n",
        "import math\n",
        "from google.colab import drive\n",
        "import os\n",
        "#drive.mount(\"/content/gdrive/\")\n",
        "from keras.models import Sequential\n",
        "from keras.layers import Dense, LSTM\n",
        "from tensorflow.keras import layers\n",
        "from tensorflow.keras import regularizers\n",
        "from tensorflow.keras.optimizers import SGD, Adam"
      ],
      "execution_count": null,
      "outputs": []
    },
    {
      "cell_type": "code",
      "source": [
        "from google.colab import drive\n",
        "drive.mount(\"/content/gdrive/\")"
      ],
      "metadata": {
        "colab": {
          "base_uri": "https://localhost:8080/"
        },
        "id": "7benI54Ugz4V",
        "outputId": "d2decba1-ad52-4f53-bc90-6788fcd19754"
      },
      "execution_count": null,
      "outputs": [
        {
          "output_type": "stream",
          "name": "stdout",
          "text": [
            "Mounted at /content/gdrive/\n"
          ]
        }
      ]
    },
    {
      "cell_type": "code",
      "metadata": {
        "id": "gVa9v3ebJABQ"
      },
      "source": [
        "from sklearn import preprocessing\n",
        "from sklearn.model_selection import train_test_split\n",
        "from sklearn.metrics import mean_squared_error\n",
        "from sklearn.model_selection import cross_val_score\n",
        "from sklearn.model_selection import RepeatedKFold\n",
        "from sklearn.linear_model import ElasticNet\n",
        "from sklearn import linear_model\n",
        "from sklearn.ensemble import RandomForestRegressor\n",
        "from sklearn.ensemble import GradientBoostingRegressor\n",
        "from sklearn.linear_model import ElasticNetCV\n",
        "from sklearn.model_selection import KFold\n",
        "import matplotlib.pyplot as plt\n",
        "from sklearn.preprocessing import PolynomialFeatures\n",
        "import tensorflow.keras\n",
        "from sklearn.metrics import r2_score"
      ],
      "execution_count": null,
      "outputs": []
    },
    {
      "cell_type": "code",
      "metadata": {
        "id": "GEufLEglHpGe"
      },
      "source": [
        "fn = \"/content/gdrive/My Drive/DATASET_for_Python_new.xlsx\"\n",
        "Raw_raw = pd.read_excel(fn, sheet_name = 'Raw')\n",
        "PE_raw = pd.read_excel(fn, sheet_name = 'PE')\n",
        "SFE_raw = pd.read_excel(fn, sheet_name = 'SFE')\n",
        "Etc_raw = pd.read_excel(fn, sheet_name = 'Etc')"
      ],
      "execution_count": null,
      "outputs": []
    },
    {
      "cell_type": "code",
      "metadata": {
        "colab": {
          "base_uri": "https://localhost:8080/"
        },
        "id": "Aclk2TxZflxp",
        "outputId": "69d72408-0e93-46fb-c5ad-72d43d58f2da"
      },
      "source": [
        "Raw_raw.usecols = ['Date', 'Month', 'T_Raw_MGD', 'Recycle_MGD', 'Temp_C','BODRaw_Conc._mg.l','NH3Raw_Conc._mg.l',\n",
        "                   'TPRaw_Conc._mg.l','SPRaw_Conc._mg.l','TSSRaw_Conc._mg.l','VSSRaw_Conc._mg.l','Aver. FerricRaw_Conc._mg.l']\n",
        "Raw = Raw_raw.loc[:,Raw_raw.usecols]\n",
        "\n",
        "#PE Sheet\n",
        "PE_raw.usecols = ['PE Flow_MGD','BODPE_Conc._mg.l','CODPE_Conc._mg.l','TSSPE_Conc._mg.l','VSSPE_Conc._mg.l','SPPE_Conc._mg.l',\n",
        "                  'f.TPPE_Conc']\n",
        "PE = PE_raw.loc[:,PE_raw.usecols]\n",
        "\n",
        "#SFE Sheet\n",
        "SFE_raw.usecols = ['BODSFE_Conc._mg.l','NH3SFE_Conc._mg.l','SPSFE_Conc._mg.l','TPSFE_Conc._mg.l',\n",
        "                   'TSSSFE_Conc._mg.l','TSSFE_Conc._mg.l']\n",
        "SFE = SFE_raw.loc[:,SFE_raw.usecols]\n",
        "\n",
        "# Etc. Sheet\n",
        "Etc_raw.usecols = ['RAS_FlowMGD','RAW_TSSmg.l','Pred_RASmg.l','MLSSmg.l','MVLSSmg.l','MVLSS.MLSS%',\n",
        "                   'SVIml.mg','SRT_PredDays','SRT_MeasuredDays','Sludge_Blanket_Depth_ft',]\n",
        "Etc = Etc_raw.loc[:,Etc_raw.usecols]\n",
        "\n",
        "#Merging df\n",
        "df = pd.concat([Raw,PE,SFE,Etc], axis=1)\n",
        "df['Date'] = pd.to_datetime(df['Date']).dt.date #remove time from datetime\n",
        "df = df.set_index('Date') # set index with Date\n",
        "df.info()\n",
        "\n",
        "df.columns = [\"Month\",\"Raw_Flow\", \"Recycle_Flow\", \"Temp\", \"Raw_BOD\",\"Raw_NH3\", \"Raw_TP\",\"Raw_SP\",\"Raw_TSS\",\"Raw_VSS\",\"Ferric\",\n",
        "              \"PE_Flow\",\"PE_BOD\",\"PE_COD\",\"PE_TSS\",\"PE_VSS\",\"PE_SP\",\"PE_fTP\",\n",
        "              \"SFE_BOD\",\"SFE_NH3\",\"SFE_SP\",\"SFE_TP\",\"SFE_TSS\",\"SFE_TS\",\n",
        "              \"RAS_Flow\",\"RAS_TSS\",\"Pred_RAS_TSS\",\"MLSS\",\"MLVSS\",\"MLVSS_MLSS\",\"SVI\",\"SRT\",\"SRT_cal\",\"SLBk\"]\n",
        "\n",
        "# Adding additional parameter written by Anar\n",
        "#week day\n",
        "df['week_day'] = np.arange(2,3167)%7\n",
        "df['Mn'] = (df['week_day'].values == 1)+np.zeros(3165)\n",
        "df['Ts'] = (df['week_day'].values == 2)+np.zeros(3165)\n",
        "df['Wed'] = (df['week_day'].values == 3)+np.zeros(3165)\n",
        "df['Th'] = (df['week_day'].values == 4)+np.zeros(3165)\n",
        "df['Fr'] = (df['week_day'].values == 5)+np.zeros(3165)\n",
        "df['Sat'] = (df['week_day'].values == 6)+np.zeros(3165)\n",
        "df['Sun'] = (df['week_day'].values == 0)+np.zeros(3165)\n",
        "\n",
        "#season\n",
        "df['Winter'] = ((df['Month'] > 11)  | (df[\"Month\"]<3)) + np.zeros(3165)\n",
        "df['Summer'] = ((df['Month'] > 5)  & (df[\"Month\"]<9)) + np.zeros(3165)\n",
        "df['Fall'] = ((df['Month'] > 8)  & (df[\"Month\"]<12)) + np.zeros(3165)\n",
        "df['Spring'] = ((df['Month'] > 2)  & (df[\"Month\"]<6)) + np.zeros(3165)\n",
        "\n",
        "# Moving Average > choose ma1\n",
        "df['t1_TP'] = df['SFE_TP'].rolling(window=1).mean()\n",
        "df['t1_TSS'] = df['SFE_TSS'].rolling(window=1).mean()\n",
        "df['t1_SP'] = df['SFE_SP'].rolling(window=1).mean()\n",
        "# lag a row by group '1d'\n",
        "df['t1_TP'] = df['t1_TP'].shift(1)\n",
        "df['t1_TSS'] = df['t1_TSS'].shift(1)\n",
        "df['t1_SP'] = df['t1_SP'].shift(1)\n",
        "\n",
        "# Delete first row to remove NA in t1 values\n",
        "df = df.dropna(subset=['t1_TP'])\n",
        "df = df.fillna(df.mean(axis=0)) # Mean to NaN\n",
        "#df=df.fillna(method=\"ffill\", axis=0) #fill with previous value\n",
        "#df.where(pd.notnull(df), df.mean(), axis='columns')\n",
        "print(df.info())    \n",
        "\n",
        "#Normalizing dataset\n",
        "min_max_scaler = preprocessing.MinMaxScaler()\n",
        "scaled_df_conc = min_max_scaler.fit_transform(df)\n",
        "scaled_df_conc = pd.DataFrame(scaled_df_conc, index=df.index, columns=df.columns)\n",
        "\n",
        "X = scaled_df_conc.loc[:,[\"Month\", \"Temp\", \"Raw_TP\",\"Raw_SP\",\"Ferric\",\n",
        "              \"PE_Flow\",\"PE_SP\",\"PE_fTP\",\"MLVSS\",\"SRT\",\"SLBk\",\n",
        "              't1_TP','t1_TSS', 't1_SP']]\n",
        "unscaled_y = df.loc[:,'SFE_TP'] # removed Outliers\n",
        "\n",
        "np.random.seed(0)\n",
        "X_train, X_test, y_train, y_test = train_test_split(X, unscaled_y, test_size=0.25)\n",
        "print(X_train.shape, X_test.shape, y_train.shape, y_test.shape)\n",
        "print(X_train.info())  \n",
        "\n",
        "Lasso_model = linear_model.Lasso(alpha=0.001)\n",
        "Lasso_model.fit(X_train, y_train)\n",
        "print(round(Lasso_model.score(X_test, y_test),3), \"Lasso Regression\")\n",
        "\n",
        "usefull_columns = []\n",
        "\n",
        "for i in range(len(X_train.columns)):\n",
        "  if abs(Lasso_model.coef_[i]) > 0.00001:\n",
        "    usefull_columns.append(X_train.columns[i])\n",
        "print(mean_squared_error(y_test, Lasso_model.predict(X_test)))\n",
        "\n",
        "len(usefull_columns)\n",
        "\n",
        "X = scaled_df_conc.loc[:,usefull_columns]\n",
        "unscaled_y = df.loc[:,'SFE_TP'] # removed Outliers\n",
        "\n",
        "np.random.seed(0)\n",
        "X_train, X_test, y_train, y_test = train_test_split(X, unscaled_y, test_size=0.25)\n",
        "print(X_train.shape, X_test.shape, y_train.shape, y_test.shape)\n",
        "print(X.info()) "
      ],
      "execution_count": null,
      "outputs": [
        {
          "output_type": "stream",
          "name": "stdout",
          "text": [
            "<class 'pandas.core.frame.DataFrame'>\n",
            "Index: 3165 entries, 2013-01-01 to 2021-08-31\n",
            "Data columns (total 34 columns):\n",
            " #   Column                      Non-Null Count  Dtype  \n",
            "---  ------                      --------------  -----  \n",
            " 0   Month                       3165 non-null   int64  \n",
            " 1   T_Raw_MGD                   3165 non-null   float64\n",
            " 2   Recycle_MGD                 3165 non-null   float64\n",
            " 3   Temp_C                      3165 non-null   float64\n",
            " 4   BODRaw_Conc._mg.l           3147 non-null   float64\n",
            " 5   NH3Raw_Conc._mg.l           843 non-null    float64\n",
            " 6   TPRaw_Conc._mg.l            3157 non-null   float64\n",
            " 7   SPRaw_Conc._mg.l            3157 non-null   float64\n",
            " 8   TSSRaw_Conc._mg.l           3159 non-null   float64\n",
            " 9   VSSRaw_Conc._mg.l           3159 non-null   float64\n",
            " 10  Aver. FerricRaw_Conc._mg.l  3104 non-null   float64\n",
            " 11  PE Flow_MGD                 3165 non-null   float64\n",
            " 12  BODPE_Conc._mg.l            3159 non-null   float64\n",
            " 13  CODPE_Conc._mg.l            2951 non-null   float64\n",
            " 14  TSSPE_Conc._mg.l            3165 non-null   float64\n",
            " 15  VSSPE_Conc._mg.l            3162 non-null   float64\n",
            " 16  SPPE_Conc._mg.l             3157 non-null   float64\n",
            " 17  f.TPPE_Conc                 3165 non-null   float64\n",
            " 18  BODSFE_Conc._mg.l           3162 non-null   float64\n",
            " 19  NH3SFE_Conc._mg.l           3165 non-null   float64\n",
            " 20  SPSFE_Conc._mg.l            3165 non-null   float64\n",
            " 21  TPSFE_Conc._mg.l            3165 non-null   float64\n",
            " 22  TSSSFE_Conc._mg.l           3165 non-null   float64\n",
            " 23  TSSFE_Conc._mg.l            3165 non-null   int64  \n",
            " 24  RAS_FlowMGD                 3165 non-null   float64\n",
            " 25  RAW_TSSmg.l                 3165 non-null   float64\n",
            " 26  Pred_RASmg.l                3165 non-null   float64\n",
            " 27  MLSSmg.l                    3165 non-null   float64\n",
            " 28  MVLSSmg.l                   3165 non-null   float64\n",
            " 29  MVLSS.MLSS%                 3165 non-null   float64\n",
            " 30  SVIml.mg                    3165 non-null   float64\n",
            " 31  SRT_PredDays                3165 non-null   float64\n",
            " 32  SRT_MeasuredDays            3165 non-null   float64\n",
            " 33  Sludge_Blanket_Depth_ft     3165 non-null   float64\n",
            "dtypes: float64(32), int64(2)\n",
            "memory usage: 865.4+ KB\n",
            "<class 'pandas.core.frame.DataFrame'>\n",
            "Index: 3164 entries, 2013-01-02 to 2021-08-31\n",
            "Data columns (total 49 columns):\n",
            " #   Column        Non-Null Count  Dtype  \n",
            "---  ------        --------------  -----  \n",
            " 0   Month         3164 non-null   int64  \n",
            " 1   Raw_Flow      3164 non-null   float64\n",
            " 2   Recycle_Flow  3164 non-null   float64\n",
            " 3   Temp          3164 non-null   float64\n",
            " 4   Raw_BOD       3164 non-null   float64\n",
            " 5   Raw_NH3       3164 non-null   float64\n",
            " 6   Raw_TP        3164 non-null   float64\n",
            " 7   Raw_SP        3164 non-null   float64\n",
            " 8   Raw_TSS       3164 non-null   float64\n",
            " 9   Raw_VSS       3164 non-null   float64\n",
            " 10  Ferric        3164 non-null   float64\n",
            " 11  PE_Flow       3164 non-null   float64\n",
            " 12  PE_BOD        3164 non-null   float64\n",
            " 13  PE_COD        3164 non-null   float64\n",
            " 14  PE_TSS        3164 non-null   float64\n",
            " 15  PE_VSS        3164 non-null   float64\n",
            " 16  PE_SP         3164 non-null   float64\n",
            " 17  PE_fTP        3164 non-null   float64\n",
            " 18  SFE_BOD       3164 non-null   float64\n",
            " 19  SFE_NH3       3164 non-null   float64\n",
            " 20  SFE_SP        3164 non-null   float64\n",
            " 21  SFE_TP        3164 non-null   float64\n",
            " 22  SFE_TSS       3164 non-null   float64\n",
            " 23  SFE_TS        3164 non-null   int64  \n",
            " 24  RAS_Flow      3164 non-null   float64\n",
            " 25  RAS_TSS       3164 non-null   float64\n",
            " 26  Pred_RAS_TSS  3164 non-null   float64\n",
            " 27  MLSS          3164 non-null   float64\n",
            " 28  MLVSS         3164 non-null   float64\n",
            " 29  MLVSS_MLSS    3164 non-null   float64\n",
            " 30  SVI           3164 non-null   float64\n",
            " 31  SRT           3164 non-null   float64\n",
            " 32  SRT_cal       3164 non-null   float64\n",
            " 33  SLBk          3164 non-null   float64\n",
            " 34  week_day      3164 non-null   int64  \n",
            " 35  Mn            3164 non-null   float64\n",
            " 36  Ts            3164 non-null   float64\n",
            " 37  Wed           3164 non-null   float64\n",
            " 38  Th            3164 non-null   float64\n",
            " 39  Fr            3164 non-null   float64\n",
            " 40  Sat           3164 non-null   float64\n",
            " 41  Sun           3164 non-null   float64\n",
            " 42  Winter        3164 non-null   float64\n",
            " 43  Summer        3164 non-null   float64\n",
            " 44  Fall          3164 non-null   float64\n",
            " 45  Spring        3164 non-null   float64\n",
            " 46  t1_TP         3164 non-null   float64\n",
            " 47  t1_TSS        3164 non-null   float64\n",
            " 48  t1_SP         3164 non-null   float64\n",
            "dtypes: float64(46), int64(3)\n",
            "memory usage: 1.2+ MB\n",
            "None\n",
            "(2373, 14) (791, 14) (2373,) (791,)\n",
            "<class 'pandas.core.frame.DataFrame'>\n",
            "Index: 2373 entries, 2021-04-20 to 2020-06-26\n",
            "Data columns (total 14 columns):\n",
            " #   Column   Non-Null Count  Dtype  \n",
            "---  ------   --------------  -----  \n",
            " 0   Month    2373 non-null   float64\n",
            " 1   Temp     2373 non-null   float64\n",
            " 2   Raw_TP   2373 non-null   float64\n",
            " 3   Raw_SP   2373 non-null   float64\n",
            " 4   Ferric   2373 non-null   float64\n",
            " 5   PE_Flow  2373 non-null   float64\n",
            " 6   PE_SP    2373 non-null   float64\n",
            " 7   PE_fTP   2373 non-null   float64\n",
            " 8   MLVSS    2373 non-null   float64\n",
            " 9   SRT      2373 non-null   float64\n",
            " 10  SLBk     2373 non-null   float64\n",
            " 11  t1_TP    2373 non-null   float64\n",
            " 12  t1_TSS   2373 non-null   float64\n",
            " 13  t1_SP    2373 non-null   float64\n",
            "dtypes: float64(14)\n",
            "memory usage: 278.1+ KB\n",
            "None\n",
            "0.598 Lasso Regression\n",
            "0.014491256401845695\n",
            "(2373, 8) (791, 8) (2373,) (791,)\n",
            "<class 'pandas.core.frame.DataFrame'>\n",
            "Index: 3164 entries, 2013-01-02 to 2021-08-31\n",
            "Data columns (total 8 columns):\n",
            " #   Column   Non-Null Count  Dtype  \n",
            "---  ------   --------------  -----  \n",
            " 0   Month    3164 non-null   float64\n",
            " 1   Temp     3164 non-null   float64\n",
            " 2   Raw_TP   3164 non-null   float64\n",
            " 3   PE_Flow  3164 non-null   float64\n",
            " 4   PE_SP    3164 non-null   float64\n",
            " 5   PE_fTP   3164 non-null   float64\n",
            " 6   SLBk     3164 non-null   float64\n",
            " 7   t1_TP    3164 non-null   float64\n",
            "dtypes: float64(8)\n",
            "memory usage: 382.5+ KB\n",
            "None\n"
          ]
        },
        {
          "output_type": "stream",
          "name": "stderr",
          "text": [
            "/usr/local/lib/python3.7/dist-packages/ipykernel_launcher.py:2: UserWarning: Pandas doesn't allow columns to be created via a new attribute name - see https://pandas.pydata.org/pandas-docs/stable/indexing.html#attribute-access\n",
            "  \n",
            "/usr/local/lib/python3.7/dist-packages/ipykernel_launcher.py:7: UserWarning: Pandas doesn't allow columns to be created via a new attribute name - see https://pandas.pydata.org/pandas-docs/stable/indexing.html#attribute-access\n",
            "  import sys\n",
            "/usr/local/lib/python3.7/dist-packages/ipykernel_launcher.py:12: UserWarning: Pandas doesn't allow columns to be created via a new attribute name - see https://pandas.pydata.org/pandas-docs/stable/indexing.html#attribute-access\n",
            "  if sys.path[0] == '':\n",
            "/usr/local/lib/python3.7/dist-packages/ipykernel_launcher.py:17: UserWarning: Pandas doesn't allow columns to be created via a new attribute name - see https://pandas.pydata.org/pandas-docs/stable/indexing.html#attribute-access\n"
          ]
        }
      ]
    },
    {
      "cell_type": "code",
      "metadata": {
        "id": "GbZ7AtUSJgmV"
      },
      "source": [
        "# Vanilla model\n",
        "modelNN1 = Sequential()\n",
        "modelNN1.add(tensorflow.keras.Input(shape=len(usefull_columns)))\n",
        "modelNN1.add(Dense(50, activation='elu', use_bias=True)) ##INPUT dimension adjusted from 21 to 22\n",
        "modelNN1.add(Dense(50, activation='elu', use_bias=True))\n",
        "modelNN1.add(Dense(20, activation='elu', use_bias=True))\n",
        "modelNN1.add(Dense(1, activation='linear'))"
      ],
      "execution_count": null,
      "outputs": []
    },
    {
      "cell_type": "markdown",
      "metadata": {
        "id": "FCZK5IXplSSn"
      },
      "source": [
        ""
      ]
    },
    {
      "cell_type": "code",
      "metadata": {
        "id": "rG5yaT97Khri"
      },
      "source": [
        "modelNN1.compile(optimizer=Adam(learning_rate=0.005, beta_1=0.9, beta_2=0.999, amsgrad=False), loss='mean_squared_error')"
      ],
      "execution_count": null,
      "outputs": []
    },
    {
      "cell_type": "code",
      "metadata": {
        "colab": {
          "base_uri": "https://localhost:8080/"
        },
        "id": "Klyu-Gl2KmOF",
        "outputId": "02c974f8-c321-4ff8-ac2e-d2a69f890244"
      },
      "source": [
        "modelNN1.fit(X_train, y_train, batch_size=100, epochs=200)"
      ],
      "execution_count": null,
      "outputs": [
        {
          "output_type": "stream",
          "name": "stdout",
          "text": [
            "Epoch 1/200\n",
            "24/24 [==============================] - 0s 3ms/step - loss: 0.0732\n",
            "Epoch 2/200\n",
            "24/24 [==============================] - 0s 2ms/step - loss: 0.0232\n",
            "Epoch 3/200\n",
            "24/24 [==============================] - 0s 2ms/step - loss: 0.0200\n",
            "Epoch 4/200\n",
            "24/24 [==============================] - 0s 2ms/step - loss: 0.0186\n",
            "Epoch 5/200\n",
            "24/24 [==============================] - 0s 2ms/step - loss: 0.0189\n",
            "Epoch 6/200\n",
            "24/24 [==============================] - 0s 2ms/step - loss: 0.0193\n",
            "Epoch 7/200\n",
            "24/24 [==============================] - 0s 2ms/step - loss: 0.0185\n",
            "Epoch 8/200\n",
            "24/24 [==============================] - 0s 2ms/step - loss: 0.0187\n",
            "Epoch 9/200\n",
            "24/24 [==============================] - 0s 2ms/step - loss: 0.0190\n",
            "Epoch 10/200\n",
            "24/24 [==============================] - 0s 2ms/step - loss: 0.0186\n",
            "Epoch 11/200\n",
            "24/24 [==============================] - 0s 2ms/step - loss: 0.0191\n",
            "Epoch 12/200\n",
            "24/24 [==============================] - 0s 2ms/step - loss: 0.0186\n",
            "Epoch 13/200\n",
            "24/24 [==============================] - 0s 2ms/step - loss: 0.0183\n",
            "Epoch 14/200\n",
            "24/24 [==============================] - 0s 2ms/step - loss: 0.0188\n",
            "Epoch 15/200\n",
            "24/24 [==============================] - 0s 3ms/step - loss: 0.0190\n",
            "Epoch 16/200\n",
            "24/24 [==============================] - 0s 2ms/step - loss: 0.0187\n",
            "Epoch 17/200\n",
            "24/24 [==============================] - 0s 2ms/step - loss: 0.0188\n",
            "Epoch 18/200\n",
            "24/24 [==============================] - 0s 2ms/step - loss: 0.0186\n",
            "Epoch 19/200\n",
            "24/24 [==============================] - 0s 2ms/step - loss: 0.0182\n",
            "Epoch 20/200\n",
            "24/24 [==============================] - 0s 2ms/step - loss: 0.0184\n",
            "Epoch 21/200\n",
            "24/24 [==============================] - 0s 2ms/step - loss: 0.0185\n",
            "Epoch 22/200\n",
            "24/24 [==============================] - 0s 2ms/step - loss: 0.0182\n",
            "Epoch 23/200\n",
            "24/24 [==============================] - 0s 2ms/step - loss: 0.0182\n",
            "Epoch 24/200\n",
            "24/24 [==============================] - 0s 2ms/step - loss: 0.0189\n",
            "Epoch 25/200\n",
            "24/24 [==============================] - 0s 2ms/step - loss: 0.0182\n",
            "Epoch 26/200\n",
            "24/24 [==============================] - 0s 2ms/step - loss: 0.0188\n",
            "Epoch 27/200\n",
            "24/24 [==============================] - 0s 2ms/step - loss: 0.0181\n",
            "Epoch 28/200\n",
            "24/24 [==============================] - 0s 2ms/step - loss: 0.0181\n",
            "Epoch 29/200\n",
            "24/24 [==============================] - 0s 2ms/step - loss: 0.0180\n",
            "Epoch 30/200\n",
            "24/24 [==============================] - 0s 2ms/step - loss: 0.0188\n",
            "Epoch 31/200\n",
            "24/24 [==============================] - 0s 2ms/step - loss: 0.0184\n",
            "Epoch 32/200\n",
            "24/24 [==============================] - 0s 2ms/step - loss: 0.0186\n",
            "Epoch 33/200\n",
            "24/24 [==============================] - 0s 2ms/step - loss: 0.0183\n",
            "Epoch 34/200\n",
            "24/24 [==============================] - 0s 2ms/step - loss: 0.0188\n",
            "Epoch 35/200\n",
            "24/24 [==============================] - 0s 2ms/step - loss: 0.0182\n",
            "Epoch 36/200\n",
            "24/24 [==============================] - 0s 2ms/step - loss: 0.0178\n",
            "Epoch 37/200\n",
            "24/24 [==============================] - 0s 2ms/step - loss: 0.0184\n",
            "Epoch 38/200\n",
            "24/24 [==============================] - 0s 2ms/step - loss: 0.0185\n",
            "Epoch 39/200\n",
            "24/24 [==============================] - 0s 2ms/step - loss: 0.0184\n",
            "Epoch 40/200\n",
            "24/24 [==============================] - 0s 2ms/step - loss: 0.0189\n",
            "Epoch 41/200\n",
            "24/24 [==============================] - 0s 2ms/step - loss: 0.0184\n",
            "Epoch 42/200\n",
            "24/24 [==============================] - 0s 2ms/step - loss: 0.0180\n",
            "Epoch 43/200\n",
            "24/24 [==============================] - 0s 2ms/step - loss: 0.0186\n",
            "Epoch 44/200\n",
            "24/24 [==============================] - 0s 2ms/step - loss: 0.0185\n",
            "Epoch 45/200\n",
            "24/24 [==============================] - 0s 2ms/step - loss: 0.0184\n",
            "Epoch 46/200\n",
            "24/24 [==============================] - 0s 2ms/step - loss: 0.0183\n",
            "Epoch 47/200\n",
            "24/24 [==============================] - 0s 2ms/step - loss: 0.0180\n",
            "Epoch 48/200\n",
            "24/24 [==============================] - 0s 2ms/step - loss: 0.0185\n",
            "Epoch 49/200\n",
            "24/24 [==============================] - 0s 2ms/step - loss: 0.0185\n",
            "Epoch 50/200\n",
            "24/24 [==============================] - 0s 2ms/step - loss: 0.0185\n",
            "Epoch 51/200\n",
            "24/24 [==============================] - 0s 2ms/step - loss: 0.0183\n",
            "Epoch 52/200\n",
            "24/24 [==============================] - 0s 2ms/step - loss: 0.0179\n",
            "Epoch 53/200\n",
            "24/24 [==============================] - 0s 2ms/step - loss: 0.0182\n",
            "Epoch 54/200\n",
            "24/24 [==============================] - 0s 2ms/step - loss: 0.0182\n",
            "Epoch 55/200\n",
            "24/24 [==============================] - 0s 2ms/step - loss: 0.0190\n",
            "Epoch 56/200\n",
            "24/24 [==============================] - 0s 2ms/step - loss: 0.0179\n",
            "Epoch 57/200\n",
            "24/24 [==============================] - 0s 2ms/step - loss: 0.0176\n",
            "Epoch 58/200\n",
            "24/24 [==============================] - 0s 2ms/step - loss: 0.0177\n",
            "Epoch 59/200\n",
            "24/24 [==============================] - 0s 2ms/step - loss: 0.0177\n",
            "Epoch 60/200\n",
            "24/24 [==============================] - 0s 2ms/step - loss: 0.0185\n",
            "Epoch 61/200\n",
            "24/24 [==============================] - 0s 2ms/step - loss: 0.0192\n",
            "Epoch 62/200\n",
            "24/24 [==============================] - 0s 2ms/step - loss: 0.0178\n",
            "Epoch 63/200\n",
            "24/24 [==============================] - 0s 2ms/step - loss: 0.0179\n",
            "Epoch 64/200\n",
            "24/24 [==============================] - 0s 2ms/step - loss: 0.0181\n",
            "Epoch 65/200\n",
            "24/24 [==============================] - 0s 2ms/step - loss: 0.0187\n",
            "Epoch 66/200\n",
            "24/24 [==============================] - 0s 2ms/step - loss: 0.0185\n",
            "Epoch 67/200\n",
            "24/24 [==============================] - 0s 2ms/step - loss: 0.0189\n",
            "Epoch 68/200\n",
            "24/24 [==============================] - 0s 2ms/step - loss: 0.0189\n",
            "Epoch 69/200\n",
            "24/24 [==============================] - 0s 2ms/step - loss: 0.0185\n",
            "Epoch 70/200\n",
            "24/24 [==============================] - 0s 2ms/step - loss: 0.0182\n",
            "Epoch 71/200\n",
            "24/24 [==============================] - 0s 2ms/step - loss: 0.0184\n",
            "Epoch 72/200\n",
            "24/24 [==============================] - 0s 3ms/step - loss: 0.0180\n",
            "Epoch 73/200\n",
            "24/24 [==============================] - 0s 2ms/step - loss: 0.0182\n",
            "Epoch 74/200\n",
            "24/24 [==============================] - 0s 2ms/step - loss: 0.0178\n",
            "Epoch 75/200\n",
            "24/24 [==============================] - 0s 3ms/step - loss: 0.0181\n",
            "Epoch 76/200\n",
            "24/24 [==============================] - 0s 2ms/step - loss: 0.0189\n",
            "Epoch 77/200\n",
            "24/24 [==============================] - 0s 3ms/step - loss: 0.0191\n",
            "Epoch 78/200\n",
            "24/24 [==============================] - 0s 2ms/step - loss: 0.0182\n",
            "Epoch 79/200\n",
            "24/24 [==============================] - 0s 2ms/step - loss: 0.0182\n",
            "Epoch 80/200\n",
            "24/24 [==============================] - 0s 2ms/step - loss: 0.0185\n",
            "Epoch 81/200\n",
            "24/24 [==============================] - 0s 2ms/step - loss: 0.0181\n",
            "Epoch 82/200\n",
            "24/24 [==============================] - 0s 2ms/step - loss: 0.0179\n",
            "Epoch 83/200\n",
            "24/24 [==============================] - 0s 2ms/step - loss: 0.0184\n",
            "Epoch 84/200\n",
            "24/24 [==============================] - 0s 2ms/step - loss: 0.0178\n",
            "Epoch 85/200\n",
            "24/24 [==============================] - 0s 2ms/step - loss: 0.0176\n",
            "Epoch 86/200\n",
            "24/24 [==============================] - 0s 2ms/step - loss: 0.0178\n",
            "Epoch 87/200\n",
            "24/24 [==============================] - 0s 3ms/step - loss: 0.0179\n",
            "Epoch 88/200\n",
            "24/24 [==============================] - 0s 2ms/step - loss: 0.0176\n",
            "Epoch 89/200\n",
            "24/24 [==============================] - 0s 2ms/step - loss: 0.0175\n",
            "Epoch 90/200\n",
            "24/24 [==============================] - 0s 3ms/step - loss: 0.0178\n",
            "Epoch 91/200\n",
            "24/24 [==============================] - 0s 2ms/step - loss: 0.0187\n",
            "Epoch 92/200\n",
            "24/24 [==============================] - 0s 2ms/step - loss: 0.0182\n",
            "Epoch 93/200\n",
            "24/24 [==============================] - 0s 2ms/step - loss: 0.0177\n",
            "Epoch 94/200\n",
            "24/24 [==============================] - 0s 2ms/step - loss: 0.0184\n",
            "Epoch 95/200\n",
            "24/24 [==============================] - 0s 2ms/step - loss: 0.0179\n",
            "Epoch 96/200\n",
            "24/24 [==============================] - 0s 2ms/step - loss: 0.0194\n",
            "Epoch 97/200\n",
            "24/24 [==============================] - 0s 2ms/step - loss: 0.0185\n",
            "Epoch 98/200\n",
            "24/24 [==============================] - 0s 2ms/step - loss: 0.0182\n",
            "Epoch 99/200\n",
            "24/24 [==============================] - 0s 2ms/step - loss: 0.0175\n",
            "Epoch 100/200\n",
            "24/24 [==============================] - 0s 2ms/step - loss: 0.0175\n",
            "Epoch 101/200\n",
            "24/24 [==============================] - 0s 2ms/step - loss: 0.0175\n",
            "Epoch 102/200\n",
            "24/24 [==============================] - 0s 2ms/step - loss: 0.0173\n",
            "Epoch 103/200\n",
            "24/24 [==============================] - 0s 2ms/step - loss: 0.0179\n",
            "Epoch 104/200\n",
            "24/24 [==============================] - 0s 2ms/step - loss: 0.0176\n",
            "Epoch 105/200\n",
            "24/24 [==============================] - 0s 2ms/step - loss: 0.0181\n",
            "Epoch 106/200\n",
            "24/24 [==============================] - 0s 2ms/step - loss: 0.0174\n",
            "Epoch 107/200\n",
            "24/24 [==============================] - 0s 2ms/step - loss: 0.0179\n",
            "Epoch 108/200\n",
            "24/24 [==============================] - 0s 3ms/step - loss: 0.0182\n",
            "Epoch 109/200\n",
            "24/24 [==============================] - 0s 2ms/step - loss: 0.0182\n",
            "Epoch 110/200\n",
            "24/24 [==============================] - 0s 2ms/step - loss: 0.0177\n",
            "Epoch 111/200\n",
            "24/24 [==============================] - 0s 2ms/step - loss: 0.0183\n",
            "Epoch 112/200\n",
            "24/24 [==============================] - 0s 2ms/step - loss: 0.0175\n",
            "Epoch 113/200\n",
            "24/24 [==============================] - 0s 2ms/step - loss: 0.0175\n",
            "Epoch 114/200\n",
            "24/24 [==============================] - 0s 2ms/step - loss: 0.0177\n",
            "Epoch 115/200\n",
            "24/24 [==============================] - 0s 2ms/step - loss: 0.0176\n",
            "Epoch 116/200\n",
            "24/24 [==============================] - 0s 2ms/step - loss: 0.0180\n",
            "Epoch 117/200\n",
            "24/24 [==============================] - 0s 2ms/step - loss: 0.0178\n",
            "Epoch 118/200\n",
            "24/24 [==============================] - 0s 2ms/step - loss: 0.0182\n",
            "Epoch 119/200\n",
            "24/24 [==============================] - 0s 2ms/step - loss: 0.0180\n",
            "Epoch 120/200\n",
            "24/24 [==============================] - 0s 2ms/step - loss: 0.0177\n",
            "Epoch 121/200\n",
            "24/24 [==============================] - 0s 2ms/step - loss: 0.0185\n",
            "Epoch 122/200\n",
            "24/24 [==============================] - 0s 3ms/step - loss: 0.0180\n",
            "Epoch 123/200\n",
            "24/24 [==============================] - 0s 2ms/step - loss: 0.0181\n",
            "Epoch 124/200\n",
            "24/24 [==============================] - 0s 3ms/step - loss: 0.0189\n",
            "Epoch 125/200\n",
            "24/24 [==============================] - 0s 3ms/step - loss: 0.0186\n",
            "Epoch 126/200\n",
            "24/24 [==============================] - 0s 2ms/step - loss: 0.0181\n",
            "Epoch 127/200\n",
            "24/24 [==============================] - 0s 2ms/step - loss: 0.0182\n",
            "Epoch 128/200\n",
            "24/24 [==============================] - 0s 2ms/step - loss: 0.0173\n",
            "Epoch 129/200\n",
            "24/24 [==============================] - 0s 2ms/step - loss: 0.0178\n",
            "Epoch 130/200\n",
            "24/24 [==============================] - 0s 3ms/step - loss: 0.0180\n",
            "Epoch 131/200\n",
            "24/24 [==============================] - 0s 2ms/step - loss: 0.0185\n",
            "Epoch 132/200\n",
            "24/24 [==============================] - 0s 2ms/step - loss: 0.0174\n",
            "Epoch 133/200\n",
            "24/24 [==============================] - 0s 2ms/step - loss: 0.0175\n",
            "Epoch 134/200\n",
            "24/24 [==============================] - 0s 2ms/step - loss: 0.0173\n",
            "Epoch 135/200\n",
            "24/24 [==============================] - 0s 2ms/step - loss: 0.0180\n",
            "Epoch 136/200\n",
            "24/24 [==============================] - 0s 2ms/step - loss: 0.0177\n",
            "Epoch 137/200\n",
            "24/24 [==============================] - 0s 3ms/step - loss: 0.0181\n",
            "Epoch 138/200\n",
            "24/24 [==============================] - 0s 2ms/step - loss: 0.0177\n",
            "Epoch 139/200\n",
            "24/24 [==============================] - 0s 2ms/step - loss: 0.0179\n",
            "Epoch 140/200\n",
            "24/24 [==============================] - 0s 2ms/step - loss: 0.0176\n",
            "Epoch 141/200\n",
            "24/24 [==============================] - 0s 2ms/step - loss: 0.0176\n",
            "Epoch 142/200\n",
            "24/24 [==============================] - 0s 3ms/step - loss: 0.0181\n",
            "Epoch 143/200\n",
            "24/24 [==============================] - 0s 2ms/step - loss: 0.0184\n",
            "Epoch 144/200\n",
            "24/24 [==============================] - 0s 2ms/step - loss: 0.0181\n",
            "Epoch 145/200\n",
            "24/24 [==============================] - 0s 2ms/step - loss: 0.0176\n",
            "Epoch 146/200\n",
            "24/24 [==============================] - 0s 2ms/step - loss: 0.0173\n",
            "Epoch 147/200\n",
            "24/24 [==============================] - 0s 3ms/step - loss: 0.0174\n",
            "Epoch 148/200\n",
            "24/24 [==============================] - 0s 2ms/step - loss: 0.0177\n",
            "Epoch 149/200\n",
            "24/24 [==============================] - 0s 2ms/step - loss: 0.0182\n",
            "Epoch 150/200\n",
            "24/24 [==============================] - 0s 2ms/step - loss: 0.0176\n",
            "Epoch 151/200\n",
            "24/24 [==============================] - 0s 2ms/step - loss: 0.0180\n",
            "Epoch 152/200\n",
            "24/24 [==============================] - 0s 2ms/step - loss: 0.0175\n",
            "Epoch 153/200\n",
            "24/24 [==============================] - 0s 2ms/step - loss: 0.0174\n",
            "Epoch 154/200\n",
            "24/24 [==============================] - 0s 3ms/step - loss: 0.0174\n",
            "Epoch 155/200\n",
            "24/24 [==============================] - 0s 2ms/step - loss: 0.0177\n",
            "Epoch 156/200\n",
            "24/24 [==============================] - 0s 2ms/step - loss: 0.0177\n",
            "Epoch 157/200\n",
            "24/24 [==============================] - 0s 3ms/step - loss: 0.0173\n",
            "Epoch 158/200\n",
            "24/24 [==============================] - 0s 2ms/step - loss: 0.0176\n",
            "Epoch 159/200\n",
            "24/24 [==============================] - 0s 2ms/step - loss: 0.0176\n",
            "Epoch 160/200\n",
            "24/24 [==============================] - 0s 3ms/step - loss: 0.0173\n",
            "Epoch 161/200\n",
            "24/24 [==============================] - 0s 2ms/step - loss: 0.0177\n",
            "Epoch 162/200\n",
            "24/24 [==============================] - 0s 2ms/step - loss: 0.0174\n",
            "Epoch 163/200\n",
            "24/24 [==============================] - 0s 2ms/step - loss: 0.0173\n",
            "Epoch 164/200\n",
            "24/24 [==============================] - 0s 2ms/step - loss: 0.0177\n",
            "Epoch 165/200\n",
            "24/24 [==============================] - 0s 2ms/step - loss: 0.0177\n",
            "Epoch 166/200\n",
            "24/24 [==============================] - 0s 2ms/step - loss: 0.0177\n",
            "Epoch 167/200\n",
            "24/24 [==============================] - 0s 2ms/step - loss: 0.0178\n",
            "Epoch 168/200\n",
            "24/24 [==============================] - 0s 2ms/step - loss: 0.0180\n",
            "Epoch 169/200\n",
            "24/24 [==============================] - 0s 2ms/step - loss: 0.0176\n",
            "Epoch 170/200\n",
            "24/24 [==============================] - 0s 2ms/step - loss: 0.0176\n",
            "Epoch 171/200\n",
            "24/24 [==============================] - 0s 2ms/step - loss: 0.0172\n",
            "Epoch 172/200\n",
            "24/24 [==============================] - 0s 2ms/step - loss: 0.0172\n",
            "Epoch 173/200\n",
            "24/24 [==============================] - 0s 2ms/step - loss: 0.0177\n",
            "Epoch 174/200\n",
            "24/24 [==============================] - 0s 3ms/step - loss: 0.0176\n",
            "Epoch 175/200\n",
            "24/24 [==============================] - 0s 2ms/step - loss: 0.0177\n",
            "Epoch 176/200\n",
            "24/24 [==============================] - 0s 2ms/step - loss: 0.0173\n",
            "Epoch 177/200\n",
            "24/24 [==============================] - 0s 3ms/step - loss: 0.0171\n",
            "Epoch 178/200\n",
            "24/24 [==============================] - 0s 2ms/step - loss: 0.0181\n",
            "Epoch 179/200\n",
            "24/24 [==============================] - 0s 2ms/step - loss: 0.0174\n",
            "Epoch 180/200\n",
            "24/24 [==============================] - 0s 2ms/step - loss: 0.0180\n",
            "Epoch 181/200\n",
            "24/24 [==============================] - 0s 2ms/step - loss: 0.0183\n",
            "Epoch 182/200\n",
            "24/24 [==============================] - 0s 2ms/step - loss: 0.0186\n",
            "Epoch 183/200\n",
            "24/24 [==============================] - 0s 2ms/step - loss: 0.0176\n",
            "Epoch 184/200\n",
            "24/24 [==============================] - 0s 3ms/step - loss: 0.0173\n",
            "Epoch 185/200\n",
            "24/24 [==============================] - 0s 2ms/step - loss: 0.0171\n",
            "Epoch 186/200\n",
            "24/24 [==============================] - 0s 2ms/step - loss: 0.0177\n",
            "Epoch 187/200\n",
            "24/24 [==============================] - 0s 2ms/step - loss: 0.0178\n",
            "Epoch 188/200\n",
            "24/24 [==============================] - 0s 2ms/step - loss: 0.0173\n",
            "Epoch 189/200\n",
            "24/24 [==============================] - 0s 2ms/step - loss: 0.0175\n",
            "Epoch 190/200\n",
            "24/24 [==============================] - 0s 2ms/step - loss: 0.0181\n",
            "Epoch 191/200\n",
            "24/24 [==============================] - 0s 2ms/step - loss: 0.0174\n",
            "Epoch 192/200\n",
            "24/24 [==============================] - 0s 2ms/step - loss: 0.0175\n",
            "Epoch 193/200\n",
            "24/24 [==============================] - 0s 2ms/step - loss: 0.0180\n",
            "Epoch 194/200\n",
            "24/24 [==============================] - 0s 3ms/step - loss: 0.0179\n",
            "Epoch 195/200\n",
            "24/24 [==============================] - 0s 2ms/step - loss: 0.0181\n",
            "Epoch 196/200\n",
            "24/24 [==============================] - 0s 2ms/step - loss: 0.0183\n",
            "Epoch 197/200\n",
            "24/24 [==============================] - 0s 2ms/step - loss: 0.0181\n",
            "Epoch 198/200\n",
            "24/24 [==============================] - 0s 2ms/step - loss: 0.0174\n",
            "Epoch 199/200\n",
            "24/24 [==============================] - 0s 2ms/step - loss: 0.0176\n",
            "Epoch 200/200\n",
            "24/24 [==============================] - 0s 2ms/step - loss: 0.0173\n"
          ]
        },
        {
          "output_type": "execute_result",
          "data": {
            "text/plain": [
              "<keras.callbacks.History at 0x7f6ad1a26810>"
            ]
          },
          "metadata": {},
          "execution_count": 403
        }
      ]
    },
    {
      "cell_type": "code",
      "metadata": {
        "id": "PTYpMuekKzeF"
      },
      "source": [
        "y_pred_NN1 = modelNN1.predict(X_test)"
      ],
      "execution_count": null,
      "outputs": []
    },
    {
      "cell_type": "code",
      "metadata": {
        "colab": {
          "base_uri": "https://localhost:8080/"
        },
        "id": "uvJMCE03LJoK",
        "outputId": "1553b365-8046-4a18-8e16-9962d21975d6"
      },
      "source": [
        "modelNN1.evaluate(X_test,y_test)"
      ],
      "execution_count": null,
      "outputs": [
        {
          "output_type": "stream",
          "name": "stdout",
          "text": [
            "25/25 [==============================] - 0s 2ms/step - loss: 0.0151\n"
          ]
        },
        {
          "output_type": "execute_result",
          "data": {
            "text/plain": [
              "0.015142267569899559"
            ]
          },
          "metadata": {},
          "execution_count": 405
        }
      ]
    },
    {
      "cell_type": "code",
      "source": [
        "r2_score(y_test, y_pred_NN1)"
      ],
      "metadata": {
        "colab": {
          "base_uri": "https://localhost:8080/"
        },
        "id": "Y_RFDHklc8xk",
        "outputId": "0e54242e-1270-4b80-a008-e39cda8f46bf"
      },
      "execution_count": null,
      "outputs": [
        {
          "output_type": "execute_result",
          "data": {
            "text/plain": [
              "0.5802911383570954"
            ]
          },
          "metadata": {},
          "execution_count": 406
        }
      ]
    },
    {
      "cell_type": "code",
      "metadata": {
        "colab": {
          "base_uri": "https://localhost:8080/",
          "height": 295
        },
        "id": "mwajfMbArciw",
        "outputId": "535499ce-f476-4a8f-b836-7f818e085648"
      },
      "source": [
        "plt.scatter(y_test, y_pred_NN1)\n",
        "x_vals = [0, 1]\n",
        "y_vals = [0, 1]\n",
        "plt.plot(x_vals, y_vals)\n",
        "plt.title('NN')\n",
        "plt.xlabel('True Values')\n",
        "plt.ylabel('Predictions')\n",
        "plt.show()"
      ],
      "execution_count": null,
      "outputs": [
        {
          "output_type": "display_data",
          "data": {
            "image/png": "[encoded data removed]",
            "text/plain": [
              "<Figure size 432x288 with 1 Axes>"
            ]
          },
          "metadata": {
            "needs_background": "light"
          }
        }
      ]
    },
    {
      "cell_type": "code",
      "metadata": {
        "id": "6Syv0csKLbAU"
      },
      "source": [
        "backward = 7\n",
        "X_train_LSTM = []\n",
        "for i in range(backward, X_train.shape[0]):\n",
        "  X_train_LSTM.append(X[i-backward+1:i+1])"
      ],
      "execution_count": null,
      "outputs": []
    },
    {
      "cell_type": "code",
      "metadata": {
        "id": "5qAMIreIrUKx"
      },
      "source": [
        "X_train_LSTM = np.array(X_train_LSTM)"
      ],
      "execution_count": null,
      "outputs": []
    },
    {
      "cell_type": "code",
      "metadata": {
        "id": "pFenuxB2s5xp"
      },
      "source": [
        "X_test_LSTM = []\n",
        "length = X_train.shape[0]\n",
        "for i in range(backward, X_test.shape[0]):\n",
        "  X_test_LSTM.append(X[i+length-backward+1:i+length+1])"
      ],
      "execution_count": null,
      "outputs": []
    },
    {
      "cell_type": "code",
      "metadata": {
        "id": "qzzwgt7YtPYH"
      },
      "source": [
        "X_test_LSTM = np.array(X_test_LSTM)"
      ],
      "execution_count": null,
      "outputs": []
    },
    {
      "cell_type": "code",
      "metadata": {
        "id": "MNZrZZT6tWzH"
      },
      "source": [
        "y_test_LSTM = unscaled_y[length+backward:]"
      ],
      "execution_count": null,
      "outputs": []
    },
    {
      "cell_type": "code",
      "metadata": {
        "id": "4nni4GTRp8lQ"
      },
      "source": [
        "y_train_LSTM = unscaled_y[backward:length]"
      ],
      "execution_count": null,
      "outputs": []
    },
    {
      "cell_type": "code",
      "metadata": {
        "id": "q_Wsq9RjqHbO"
      },
      "source": [
        "modelLSTM = Sequential()\n",
        "modelLSTM.add(LSTM(50, return_sequences=True))\n",
        "modelLSTM.add(LSTM(20, return_sequences=False))\n",
        "modelLSTM.add(Dense(10, activation=\"relu\", use_bias=True))\n",
        "modelLSTM.add(Dense(1, activation='linear', use_bias=True))"
      ],
      "execution_count": null,
      "outputs": []
    },
    {
      "cell_type": "code",
      "metadata": {
        "id": "vU96Oa6aq8J5"
      },
      "source": [
        "modelLSTM.compile(optimizer=Adam(learning_rate=0.003, beta_1=0.9, beta_2=0.999, amsgrad=False), loss='mean_squared_error')"
      ],
      "execution_count": null,
      "outputs": []
    },
    {
      "cell_type": "code",
      "metadata": {
        "colab": {
          "base_uri": "https://localhost:8080/"
        },
        "id": "DC7WjA0VrIGd",
        "outputId": "b802ef80-b913-4dcd-c132-dbc1ae2ffa18"
      },
      "source": [
        "modelLSTM.fit(X_train_LSTM, y_train_LSTM, batch_size=100, epochs=50)"
      ],
      "execution_count": null,
      "outputs": [
        {
          "output_type": "stream",
          "name": "stdout",
          "text": [
            "Epoch 1/50\n",
            "24/24 [==============================] - 5s 13ms/step - loss: 0.0428\n",
            "Epoch 2/50\n",
            "24/24 [==============================] - 0s 13ms/step - loss: 0.0275\n",
            "Epoch 3/50\n",
            "24/24 [==============================] - 0s 12ms/step - loss: 0.0261\n",
            "Epoch 4/50\n",
            "24/24 [==============================] - 0s 13ms/step - loss: 0.0266\n",
            "Epoch 5/50\n",
            "24/24 [==============================] - 0s 13ms/step - loss: 0.0242\n",
            "Epoch 6/50\n",
            "24/24 [==============================] - 0s 13ms/step - loss: 0.0238\n",
            "Epoch 7/50\n",
            "24/24 [==============================] - 0s 12ms/step - loss: 0.0225\n",
            "Epoch 8/50\n",
            "24/24 [==============================] - 0s 13ms/step - loss: 0.0218\n",
            "Epoch 9/50\n",
            "24/24 [==============================] - 0s 12ms/step - loss: 0.0209\n",
            "Epoch 10/50\n",
            "24/24 [==============================] - 0s 12ms/step - loss: 0.0202\n",
            "Epoch 11/50\n",
            "24/24 [==============================] - 0s 12ms/step - loss: 0.0197\n",
            "Epoch 12/50\n",
            "24/24 [==============================] - 0s 14ms/step - loss: 0.0189\n",
            "Epoch 13/50\n",
            "24/24 [==============================] - 0s 13ms/step - loss: 0.0182\n",
            "Epoch 14/50\n",
            "24/24 [==============================] - 0s 12ms/step - loss: 0.0176\n",
            "Epoch 15/50\n",
            "24/24 [==============================] - 0s 14ms/step - loss: 0.0185\n",
            "Epoch 16/50\n",
            "24/24 [==============================] - 0s 13ms/step - loss: 0.0171\n",
            "Epoch 17/50\n",
            "24/24 [==============================] - 0s 13ms/step - loss: 0.0173\n",
            "Epoch 18/50\n",
            "24/24 [==============================] - 0s 13ms/step - loss: 0.0173\n",
            "Epoch 19/50\n",
            "24/24 [==============================] - 0s 12ms/step - loss: 0.0171\n",
            "Epoch 20/50\n",
            "24/24 [==============================] - 0s 12ms/step - loss: 0.0174\n",
            "Epoch 21/50\n",
            "24/24 [==============================] - 0s 13ms/step - loss: 0.0169\n",
            "Epoch 22/50\n",
            "24/24 [==============================] - 0s 13ms/step - loss: 0.0162\n",
            "Epoch 23/50\n",
            "24/24 [==============================] - 0s 12ms/step - loss: 0.0165\n",
            "Epoch 24/50\n",
            "24/24 [==============================] - 0s 12ms/step - loss: 0.0167\n",
            "Epoch 25/50\n",
            "24/24 [==============================] - 0s 13ms/step - loss: 0.0162\n",
            "Epoch 26/50\n",
            "24/24 [==============================] - 0s 13ms/step - loss: 0.0172\n",
            "Epoch 27/50\n",
            "24/24 [==============================] - 0s 13ms/step - loss: 0.0164\n",
            "Epoch 28/50\n",
            "24/24 [==============================] - 0s 13ms/step - loss: 0.0163\n",
            "Epoch 29/50\n",
            "24/24 [==============================] - 0s 12ms/step - loss: 0.0160\n",
            "Epoch 30/50\n",
            "24/24 [==============================] - 0s 12ms/step - loss: 0.0162\n",
            "Epoch 31/50\n",
            "24/24 [==============================] - 0s 13ms/step - loss: 0.0161\n",
            "Epoch 32/50\n",
            "24/24 [==============================] - 0s 13ms/step - loss: 0.0159\n",
            "Epoch 33/50\n",
            "24/24 [==============================] - 0s 13ms/step - loss: 0.0160\n",
            "Epoch 34/50\n",
            "24/24 [==============================] - 0s 13ms/step - loss: 0.0159\n",
            "Epoch 35/50\n",
            "24/24 [==============================] - 0s 13ms/step - loss: 0.0157\n",
            "Epoch 36/50\n",
            "24/24 [==============================] - 0s 12ms/step - loss: 0.0154\n",
            "Epoch 37/50\n",
            "24/24 [==============================] - 0s 12ms/step - loss: 0.0155\n",
            "Epoch 38/50\n",
            "24/24 [==============================] - 0s 13ms/step - loss: 0.0162\n",
            "Epoch 39/50\n",
            "24/24 [==============================] - 0s 13ms/step - loss: 0.0156\n",
            "Epoch 40/50\n",
            "24/24 [==============================] - 0s 13ms/step - loss: 0.0160\n",
            "Epoch 41/50\n",
            "24/24 [==============================] - 0s 12ms/step - loss: 0.0161\n",
            "Epoch 42/50\n",
            "24/24 [==============================] - 0s 13ms/step - loss: 0.0156\n",
            "Epoch 43/50\n",
            "24/24 [==============================] - 0s 12ms/step - loss: 0.0156\n",
            "Epoch 44/50\n",
            "24/24 [==============================] - 0s 12ms/step - loss: 0.0152\n",
            "Epoch 45/50\n",
            "24/24 [==============================] - 0s 13ms/step - loss: 0.0150\n",
            "Epoch 46/50\n",
            "24/24 [==============================] - 0s 13ms/step - loss: 0.0156\n",
            "Epoch 47/50\n",
            "24/24 [==============================] - 0s 12ms/step - loss: 0.0157\n",
            "Epoch 48/50\n",
            "24/24 [==============================] - 0s 13ms/step - loss: 0.0165\n",
            "Epoch 49/50\n",
            "24/24 [==============================] - 0s 12ms/step - loss: 0.0158\n",
            "Epoch 50/50\n",
            "24/24 [==============================] - 0s 13ms/step - loss: 0.0154\n"
          ]
        },
        {
          "output_type": "execute_result",
          "data": {
            "text/plain": [
              "<keras.callbacks.History at 0x7f6aadd98490>"
            ]
          },
          "metadata": {},
          "execution_count": 598
        }
      ]
    },
    {
      "cell_type": "code",
      "metadata": {
        "id": "RMSNavYgr32p"
      },
      "source": [
        "y_pred_lstm = modelLSTM.predict(X_test_LSTM)"
      ],
      "execution_count": null,
      "outputs": []
    },
    {
      "cell_type": "code",
      "source": [
        "modelLSTM.evaluate(X_test_LSTM, y_test_LSTM)"
      ],
      "metadata": {
        "colab": {
          "base_uri": "https://localhost:8080/"
        },
        "id": "4z-KVJnkbcL-",
        "outputId": "d967e85b-da4a-47c8-c091-44347dd8efe7"
      },
      "execution_count": null,
      "outputs": [
        {
          "output_type": "stream",
          "name": "stdout",
          "text": [
            "25/25 [==============================] - 1s 3ms/step - loss: 0.0170\n"
          ]
        },
        {
          "output_type": "execute_result",
          "data": {
            "text/plain": [
              "0.017009690403938293"
            ]
          },
          "metadata": {},
          "execution_count": 600
        }
      ]
    },
    {
      "cell_type": "code",
      "source": [
        "r2_score(y_test_LSTM, y_pred_lstm)"
      ],
      "metadata": {
        "colab": {
          "base_uri": "https://localhost:8080/"
        },
        "id": "5SOCWmjedFyT",
        "outputId": "baef7575-366d-4345-dafb-5ead3a09f4c8"
      },
      "execution_count": null,
      "outputs": [
        {
          "output_type": "execute_result",
          "data": {
            "text/plain": [
              "0.6135861069131968"
            ]
          },
          "metadata": {},
          "execution_count": 601
        }
      ]
    },
    {
      "cell_type": "code",
      "metadata": {
        "colab": {
          "base_uri": "https://localhost:8080/",
          "height": 295
        },
        "id": "b644tG9erGr1",
        "outputId": "3338286c-90c3-47a3-a4d3-1cb9aa2c8274"
      },
      "source": [
        "plt.scatter(y_test_LSTM, y_pred_lstm)\n",
        "x_vals = [0, 1]\n",
        "y_vals = [0, 1]\n",
        "plt.plot(x_vals, y_vals)\n",
        "plt.title('LSTM')\n",
        "plt.xlabel('True Values')\n",
        "plt.ylabel('Predictions')\n",
        "plt.show()"
      ],
      "execution_count": null,
      "outputs": [
        {
          "output_type": "display_data",
          "data": {
            "image/png": "[encoded data removed]",
            "text/plain": [
              "<Figure size 432x288 with 1 Axes>"
            ]
          },
          "metadata": {
            "needs_background": "light"
          }
        }
      ]
    },
    {
      "cell_type": "code",
      "metadata": {
        "colab": {
          "base_uri": "https://localhost:8080/"
        },
        "id": "sTbi0m_2tmLt",
        "outputId": "d85b6cf6-e404-4047-ff6f-761fbddd9280"
      },
      "source": [
        "from sklearn.linear_model import LinearRegression\n",
        "from sklearn.svm import LinearSVR\n",
        "from sklearn.svm import SVR\n",
        "LRModel = LinearRegression()\n",
        "m = LinearSVR(epsilon=0.01)\n",
        "m_SVR = SVR(C=1.0, epsilon=0.001, kernel='rbf')\n",
        "m_SVR.fit(X_train, y_train)\n",
        "LRModel.fit(X_train, y_train)\n",
        "y_pred_lr = LRModel.predict(X_test)\n",
        "print(mean_squared_error(y_pred_lr,y_test), \"Linear Regression\")\n",
        "m.fit(X_train,y_train)\n",
        "y_pred_LinSVR = m.predict(X_test)\n",
        "print(mean_squared_error(y_pred_LinSVR,y_test),\"Linear SVR\")\n",
        "y_pred_SVR = m_SVR.predict(X_test)\n",
        "print(mean_squared_error(y_pred_SVR,y_test),\"SVR\")"
      ],
      "execution_count": null,
      "outputs": [
        {
          "output_type": "stream",
          "name": "stdout",
          "text": [
            "0.014661681118179837 Linear Regression\n",
            "0.0144630717563082 Linear SVR\n",
            "0.01390020216946207 SVR\n"
          ]
        },
        {
          "output_type": "stream",
          "name": "stderr",
          "text": [
            "/usr/local/lib/python3.7/dist-packages/sklearn/svm/_base.py:1208: ConvergenceWarning: Liblinear failed to converge, increase the number of iterations.\n",
            "  ConvergenceWarning,\n"
          ]
        }
      ]
    },
    {
      "cell_type": "code",
      "metadata": {
        "id": "g-_PGqGPe1Nn"
      },
      "source": [
        "C = np.array([0.01, 0.1, 1, 10, 100, 1000])\n",
        "l1_ratios = np.array([1e-4, 1e-2, 0.1, 1])"
      ],
      "execution_count": null,
      "outputs": []
    },
    {
      "cell_type": "code",
      "metadata": {
        "id": "a8nMG-z7frYy"
      },
      "source": [
        "MSE_scores = pd.DataFrame(np.zeros((6,4)))\n",
        "MSE_scores.columns = l1_ratios\n",
        "MSE_scores.index = C\n",
        "cv_opt = RepeatedKFold(n_splits=10, n_repeats=1, random_state=1)"
      ],
      "execution_count": null,
      "outputs": []
    },
    {
      "cell_type": "code",
      "metadata": {
        "colab": {
          "base_uri": "https://localhost:8080/"
        },
        "id": "wKLoXf2lfuxN",
        "outputId": "a2a3041f-b3c4-42b3-d880-4cafd5c29ea9"
      },
      "source": [
        "for c_val in C:\n",
        "    for l1_ratio in l1_ratios:\n",
        "        model = ElasticNet(alpha=1/c_val, l1_ratio=l1_ratio)\n",
        "        cv = RepeatedKFold(n_splits=10, n_repeats=1, random_state=1)\n",
        "        scores = cross_val_score(model, X_train, y_train, scoring='neg_mean_squared_error', cv=cv, n_jobs=-1)\n",
        "        MSE_scores[l1_ratio][c_val] = -round(np.mean(scores),5)\n",
        "    print(c_val)\n",
        "print(\"Job done\")"
      ],
      "execution_count": null,
      "outputs": [
        {
          "output_type": "stream",
          "name": "stdout",
          "text": [
            "0.01\n",
            "0.1\n",
            "1.0\n",
            "10.0\n",
            "100.0\n",
            "1000.0\n",
            "Job done\n"
          ]
        }
      ]
    },
    {
      "cell_type": "code",
      "metadata": {
        "colab": {
          "base_uri": "https://localhost:8080/",
          "height": 238
        },
        "id": "i6S6dlvkf0ZT",
        "outputId": "04145c35-9633-41db-e79b-6658686bd195"
      },
      "source": [
        "MSE_scores"
      ],
      "execution_count": null,
      "outputs": [
        {
          "output_type": "execute_result",
          "data": {
            "text/html": [
              "<div>\n",
              "<style scoped>\n",
              "    .dataframe tbody tr th:only-of-type {\n",
              "        vertical-align: middle;\n",
              "    }\n",
              "\n",
              "    .dataframe tbody tr th {\n",
              "        vertical-align: top;\n",
              "    }\n",
              "\n",
              "    .dataframe thead th {\n",
              "        text-align: right;\n",
              "    }\n",
              "</style>\n",
              "<table border=\"1\" class=\"dataframe\">\n",
              "  <thead>\n",
              "    <tr style=\"text-align: right;\">\n",
              "      <th></th>\n",
              "      <th>0.0001</th>\n",
              "      <th>0.0100</th>\n",
              "      <th>0.1000</th>\n",
              "      <th>1.0000</th>\n",
              "    </tr>\n",
              "  </thead>\n",
              "  <tbody>\n",
              "    <tr>\n",
              "      <th>0.01</th>\n",
              "      <td>0.04242</td>\n",
              "      <td>0.04244</td>\n",
              "      <td>0.04244</td>\n",
              "      <td>0.04244</td>\n",
              "    </tr>\n",
              "    <tr>\n",
              "      <th>0.10</th>\n",
              "      <td>0.04217</td>\n",
              "      <td>0.04244</td>\n",
              "      <td>0.04244</td>\n",
              "      <td>0.04244</td>\n",
              "    </tr>\n",
              "    <tr>\n",
              "      <th>1.00</th>\n",
              "      <td>0.04001</td>\n",
              "      <td>0.04147</td>\n",
              "      <td>0.04244</td>\n",
              "      <td>0.04244</td>\n",
              "    </tr>\n",
              "    <tr>\n",
              "      <th>10.00</th>\n",
              "      <td>0.03115</td>\n",
              "      <td>0.03165</td>\n",
              "      <td>0.03713</td>\n",
              "      <td>0.04244</td>\n",
              "    </tr>\n",
              "    <tr>\n",
              "      <th>100.00</th>\n",
              "      <td>0.02122</td>\n",
              "      <td>0.02125</td>\n",
              "      <td>0.02167</td>\n",
              "      <td>0.03040</td>\n",
              "    </tr>\n",
              "    <tr>\n",
              "      <th>1000.00</th>\n",
              "      <td>0.01862</td>\n",
              "      <td>0.01863</td>\n",
              "      <td>0.01863</td>\n",
              "      <td>0.01897</td>\n",
              "    </tr>\n",
              "  </tbody>\n",
              "</table>\n",
              "</div>"
            ],
            "text/plain": [
              "          0.0001   0.0100   0.1000   1.0000\n",
              "0.01     0.04242  0.04244  0.04244  0.04244\n",
              "0.10     0.04217  0.04244  0.04244  0.04244\n",
              "1.00     0.04001  0.04147  0.04244  0.04244\n",
              "10.00    0.03115  0.03165  0.03713  0.04244\n",
              "100.00   0.02122  0.02125  0.02167  0.03040\n",
              "1000.00  0.01862  0.01863  0.01863  0.01897"
            ]
          },
          "metadata": {},
          "execution_count": 425
        }
      ]
    },
    {
      "cell_type": "code",
      "metadata": {
        "colab": {
          "base_uri": "https://localhost:8080/"
        },
        "id": "ybUJGFtdf26p",
        "outputId": "93907a04-0dc9-48fc-8d66-c59fbab32122"
      },
      "source": [
        "opt_model_EN = ElasticNetCV(l1_ratio=l1_ratios, alphas=1/C, cv=cv_opt, n_jobs = -1)\n",
        "opt_model_EN.fit(X_train, y_train)"
      ],
      "execution_count": null,
      "outputs": [
        {
          "output_type": "execute_result",
          "data": {
            "text/plain": [
              "ElasticNetCV(alphas=array([1.e+02, 1.e+01, 1.e+00, 1.e-01, 1.e-02, 1.e-03]),\n",
              "             cv=RepeatedKFold(n_repeats=1, n_splits=10, random_state=1),\n",
              "             l1_ratio=array([1.e-04, 1.e-02, 1.e-01, 1.e+00]), n_jobs=-1)"
            ]
          },
          "metadata": {},
          "execution_count": 426
        }
      ]
    },
    {
      "cell_type": "code",
      "metadata": {
        "colab": {
          "base_uri": "https://localhost:8080/"
        },
        "id": "brsj42yrgBiw",
        "outputId": "16893cb9-0093-4235-f1e3-5c4029c81138"
      },
      "source": [
        "print('optimal C(regularization) is ',1/opt_model_EN.alpha_)\n",
        "print('optimal li_ratio is ', opt_model_EN.l1_ratio_)"
      ],
      "execution_count": null,
      "outputs": [
        {
          "output_type": "stream",
          "name": "stdout",
          "text": [
            "optimal C(regularization) is  1000.0\n",
            "optimal li_ratio is  0.0001\n"
          ]
        }
      ]
    },
    {
      "cell_type": "code",
      "metadata": {
        "id": "yNOrz1U2gKi6"
      },
      "source": [
        "y_pred_EN = opt_model_EN.predict(X_test)"
      ],
      "execution_count": null,
      "outputs": []
    },
    {
      "cell_type": "code",
      "metadata": {
        "colab": {
          "base_uri": "https://localhost:8080/"
        },
        "id": "HYO63_WjgTyj",
        "outputId": "50542d49-79b0-4da0-a06d-196d408adbed"
      },
      "source": [
        "mean_squared_error(y_test, y_pred_EN)"
      ],
      "execution_count": null,
      "outputs": [
        {
          "output_type": "execute_result",
          "data": {
            "text/plain": [
              "0.014538227980944951"
            ]
          },
          "metadata": {},
          "execution_count": 429
        }
      ]
    },
    {
      "cell_type": "code",
      "metadata": {
        "colab": {
          "base_uri": "https://localhost:8080/",
          "height": 295
        },
        "id": "ut7xWzuqr6HQ",
        "outputId": "fb3fe169-5da1-4f42-93eb-576de4d44505"
      },
      "source": [
        "plt.scatter(y_test, y_pred_EN)\n",
        "x_vals = [0, 1]\n",
        "y_vals = [0, 1]\n",
        "plt.plot(x_vals, y_vals)\n",
        "plt.title('EN')\n",
        "plt.xlabel('True Values')\n",
        "plt.ylabel('Predictions')\n",
        "plt.show()"
      ],
      "execution_count": null,
      "outputs": [
        {
          "output_type": "display_data",
          "data": {
            "image/png": "[encoded data removed]",
            "text/plain": [
              "<Figure size 432x288 with 1 Axes>"
            ]
          },
          "metadata": {
            "needs_background": "light"
          }
        }
      ]
    },
    {
      "cell_type": "code",
      "metadata": {
        "id": "F2lpNuCOgXwd"
      },
      "source": [
        "n_trees = np.array([50, 100, 150, 200])\n",
        "d_trees = np.array([5, 10, 20, 30])\n",
        "MSE_scores_RF = pd.DataFrame(np.zeros((4,4)))\n",
        "MSE_scores_RF.columns = d_trees\n",
        "MSE_scores_RF.index = n_trees"
      ],
      "execution_count": null,
      "outputs": []
    },
    {
      "cell_type": "code",
      "metadata": {
        "colab": {
          "base_uri": "https://localhost:8080/"
        },
        "id": "_m5pGbaKge0l",
        "outputId": "91a50b8e-2f57-4ca1-9d5b-12feed57fd34"
      },
      "source": [
        "for n_tree in n_trees:\n",
        "    for d_tree in d_trees:\n",
        "        model = RandomForestRegressor(n_estimators = n_tree, max_depth = d_tree)\n",
        "        cv = RepeatedKFold(n_splits=10, n_repeats=1, random_state=1)\n",
        "        scores = cross_val_score(model, X_train, y_train, scoring='neg_mean_squared_error', cv=cv, n_jobs=-1)\n",
        "        MSE_scores_RF[d_tree][n_tree] = -round(np.mean(scores),5)\n",
        "        print(n_tree, \" \", d_tree)\n",
        "print('job done')"
      ],
      "execution_count": null,
      "outputs": [
        {
          "output_type": "stream",
          "name": "stdout",
          "text": [
            "50   5\n",
            "50   10\n",
            "50   20\n",
            "50   30\n",
            "100   5\n",
            "100   10\n",
            "100   20\n",
            "100   30\n",
            "150   5\n",
            "150   10\n",
            "150   20\n",
            "150   30\n",
            "200   5\n",
            "200   10\n",
            "200   20\n",
            "200   30\n",
            "job done\n"
          ]
        }
      ]
    },
    {
      "cell_type": "code",
      "metadata": {
        "colab": {
          "base_uri": "https://localhost:8080/",
          "height": 174
        },
        "id": "FgP1Wu1sglUo",
        "outputId": "65d637a1-78e8-4a07-96f5-01591220a620"
      },
      "source": [
        "MSE_scores_RF"
      ],
      "execution_count": null,
      "outputs": [
        {
          "output_type": "execute_result",
          "data": {
            "text/html": [
              "<div>\n",
              "<style scoped>\n",
              "    .dataframe tbody tr th:only-of-type {\n",
              "        vertical-align: middle;\n",
              "    }\n",
              "\n",
              "    .dataframe tbody tr th {\n",
              "        vertical-align: top;\n",
              "    }\n",
              "\n",
              "    .dataframe thead th {\n",
              "        text-align: right;\n",
              "    }\n",
              "</style>\n",
              "<table border=\"1\" class=\"dataframe\">\n",
              "  <thead>\n",
              "    <tr style=\"text-align: right;\">\n",
              "      <th></th>\n",
              "      <th>5</th>\n",
              "      <th>10</th>\n",
              "      <th>20</th>\n",
              "      <th>30</th>\n",
              "    </tr>\n",
              "  </thead>\n",
              "  <tbody>\n",
              "    <tr>\n",
              "      <th>50</th>\n",
              "      <td>0.01861</td>\n",
              "      <td>0.01900</td>\n",
              "      <td>0.01901</td>\n",
              "      <td>0.01911</td>\n",
              "    </tr>\n",
              "    <tr>\n",
              "      <th>100</th>\n",
              "      <td>0.01861</td>\n",
              "      <td>0.01907</td>\n",
              "      <td>0.01892</td>\n",
              "      <td>0.01900</td>\n",
              "    </tr>\n",
              "    <tr>\n",
              "      <th>150</th>\n",
              "      <td>0.01870</td>\n",
              "      <td>0.01893</td>\n",
              "      <td>0.01873</td>\n",
              "      <td>0.01895</td>\n",
              "    </tr>\n",
              "    <tr>\n",
              "      <th>200</th>\n",
              "      <td>0.01857</td>\n",
              "      <td>0.01865</td>\n",
              "      <td>0.01903</td>\n",
              "      <td>0.01886</td>\n",
              "    </tr>\n",
              "  </tbody>\n",
              "</table>\n",
              "</div>"
            ],
            "text/plain": [
              "          5        10       20       30\n",
              "50   0.01861  0.01900  0.01901  0.01911\n",
              "100  0.01861  0.01907  0.01892  0.01900\n",
              "150  0.01870  0.01893  0.01873  0.01895\n",
              "200  0.01857  0.01865  0.01903  0.01886"
            ]
          },
          "metadata": {},
          "execution_count": 507
        }
      ]
    },
    {
      "cell_type": "code",
      "metadata": {
        "colab": {
          "base_uri": "https://localhost:8080/"
        },
        "id": "U4nG-fClhtYo",
        "outputId": "8d45e5e9-3d76-4f25-af68-617f1deb6143"
      },
      "source": [
        "opt_model_RF = RandomForestRegressor(n_estimators = 200, max_depth = 5)\n",
        "opt_model_RF.fit(X_train, y_train)"
      ],
      "execution_count": null,
      "outputs": [
        {
          "output_type": "execute_result",
          "data": {
            "text/plain": [
              "RandomForestRegressor(max_depth=5, n_estimators=200)"
            ]
          },
          "metadata": {},
          "execution_count": 511
        }
      ]
    },
    {
      "cell_type": "code",
      "metadata": {
        "id": "0BxCPV14h5HH"
      },
      "source": [
        "y_pred_RF = opt_model_RF.predict(X_test)"
      ],
      "execution_count": null,
      "outputs": []
    },
    {
      "cell_type": "code",
      "metadata": {
        "colab": {
          "base_uri": "https://localhost:8080/"
        },
        "id": "hpv8GuqdiBAj",
        "outputId": "dcc9a627-4225-4426-8f2c-9744f52143f7"
      },
      "source": [
        "mean_squared_error(y_test, y_pred_RF)"
      ],
      "execution_count": null,
      "outputs": [
        {
          "output_type": "execute_result",
          "data": {
            "text/plain": [
              "0.015538203979805374"
            ]
          },
          "metadata": {},
          "execution_count": 513
        }
      ]
    },
    {
      "cell_type": "code",
      "metadata": {
        "colab": {
          "base_uri": "https://localhost:8080/",
          "height": 295
        },
        "id": "jYqm8upatm12",
        "outputId": "a720017e-9e7c-4fbc-8a95-d78aa1991281"
      },
      "source": [
        "plt.scatter(y_test, y_pred_RF)\n",
        "x_vals = [0, 1]\n",
        "y_vals = [0, 1]\n",
        "plt.plot(x_vals, y_vals)\n",
        "plt.title('RF')\n",
        "plt.xlabel('True Values')\n",
        "plt.ylabel('Predictions')\n",
        "plt.show()"
      ],
      "execution_count": null,
      "outputs": [
        {
          "output_type": "display_data",
          "data": {
            "image/png": "[encoded data removed]",
            "text/plain": [
              "<Figure size 432x288 with 1 Axes>"
            ]
          },
          "metadata": {
            "needs_background": "light"
          }
        }
      ]
    },
    {
      "cell_type": "code",
      "metadata": {
        "id": "Qs5FM_BYjN7I"
      },
      "source": [
        "from xgboost import XGBRegressor"
      ],
      "execution_count": null,
      "outputs": []
    },
    {
      "cell_type": "code",
      "metadata": {
        "id": "HOYX0jGoiDiu"
      },
      "source": [
        "learning_rates = [0.01, 0.1, 1]\n",
        "n_boosting_stages = np.array([50, 100, 200, 300])\n",
        "MSE_scores_GB = pd.DataFrame(np.zeros((4,3)))\n",
        "MSE_scores_GB.columns = learning_rates\n",
        "MSE_scores_GB.index = n_boosting_stages"
      ],
      "execution_count": null,
      "outputs": []
    },
    {
      "cell_type": "code",
      "metadata": {
        "colab": {
          "base_uri": "https://localhost:8080/"
        },
        "id": "tIpr2_J2iLBm",
        "outputId": "682a286f-ea3c-44fb-a635-a63ff2adc3f1"
      },
      "source": [
        "for lr in learning_rates:\n",
        "    for nbs in n_boosting_stages:\n",
        "        model = XGBRegressor(n_estimators = nbs, learning_rate = lr)\n",
        "        cv = RepeatedKFold(n_splits=10, n_repeats=1, random_state=1)\n",
        "        scores = cross_val_score(model, X_train, y_train, scoring='neg_mean_squared_error', cv=cv, n_jobs=-1)\n",
        "        MSE_scores_GB[lr][nbs] = -round(np.mean(scores),5)\n",
        "        print(lr, \" \", nbs)\n",
        "print('job done')"
      ],
      "execution_count": null,
      "outputs": [
        {
          "output_type": "stream",
          "name": "stdout",
          "text": [
            "0.01   50\n",
            "0.01   100\n",
            "0.01   200\n",
            "0.01   300\n",
            "0.1   50\n",
            "0.1   100\n",
            "0.1   200\n",
            "0.1   300\n",
            "1   50\n",
            "1   100\n",
            "1   200\n",
            "1   300\n",
            "job done\n"
          ]
        }
      ]
    },
    {
      "cell_type": "code",
      "metadata": {
        "colab": {
          "base_uri": "https://localhost:8080/",
          "height": 174
        },
        "id": "VZEMdb_FiUod",
        "outputId": "229818d8-fda3-4c0d-e4bb-4e9d5b6de58b"
      },
      "source": [
        "MSE_scores_GB"
      ],
      "execution_count": null,
      "outputs": [
        {
          "output_type": "execute_result",
          "data": {
            "text/html": [
              "<div>\n",
              "<style scoped>\n",
              "    .dataframe tbody tr th:only-of-type {\n",
              "        vertical-align: middle;\n",
              "    }\n",
              "\n",
              "    .dataframe tbody tr th {\n",
              "        vertical-align: top;\n",
              "    }\n",
              "\n",
              "    .dataframe thead th {\n",
              "        text-align: right;\n",
              "    }\n",
              "</style>\n",
              "<table border=\"1\" class=\"dataframe\">\n",
              "  <thead>\n",
              "    <tr style=\"text-align: right;\">\n",
              "      <th></th>\n",
              "      <th>0.01</th>\n",
              "      <th>0.10</th>\n",
              "      <th>1.00</th>\n",
              "    </tr>\n",
              "  </thead>\n",
              "  <tbody>\n",
              "    <tr>\n",
              "      <th>50</th>\n",
              "      <td>0.03395</td>\n",
              "      <td>0.01843</td>\n",
              "      <td>0.02758</td>\n",
              "    </tr>\n",
              "    <tr>\n",
              "      <th>100</th>\n",
              "      <td>0.02521</td>\n",
              "      <td>0.01855</td>\n",
              "      <td>0.02980</td>\n",
              "    </tr>\n",
              "    <tr>\n",
              "      <th>200</th>\n",
              "      <td>0.01985</td>\n",
              "      <td>0.01899</td>\n",
              "      <td>0.03113</td>\n",
              "    </tr>\n",
              "    <tr>\n",
              "      <th>300</th>\n",
              "      <td>0.01877</td>\n",
              "      <td>0.01949</td>\n",
              "      <td>0.03158</td>\n",
              "    </tr>\n",
              "  </tbody>\n",
              "</table>\n",
              "</div>"
            ],
            "text/plain": [
              "        0.01     0.10     1.00\n",
              "50   0.03395  0.01843  0.02758\n",
              "100  0.02521  0.01855  0.02980\n",
              "200  0.01985  0.01899  0.03113\n",
              "300  0.01877  0.01949  0.03158"
            ]
          },
          "metadata": {},
          "execution_count": 441
        }
      ]
    },
    {
      "cell_type": "code",
      "metadata": {
        "colab": {
          "base_uri": "https://localhost:8080/"
        },
        "id": "e6TaI2qTiz3F",
        "outputId": "428cf1c9-3a2b-4917-b2ed-92a66cb91787"
      },
      "source": [
        "opt_model_GB = XGBRegressor(n_estimators = 50, learning_rate = 0.1, objective=\"reg:squarederror\")\n",
        "opt_model_GB.fit(X_train, y_train)"
      ],
      "execution_count": null,
      "outputs": [
        {
          "output_type": "execute_result",
          "data": {
            "text/plain": [
              "XGBRegressor(n_estimators=50, objective='reg:squarederror')"
            ]
          },
          "metadata": {},
          "execution_count": 515
        }
      ]
    },
    {
      "cell_type": "code",
      "metadata": {
        "id": "qLXVTjysjFys"
      },
      "source": [
        "y_pred_GB = opt_model_GB.predict(X_test)"
      ],
      "execution_count": null,
      "outputs": []
    },
    {
      "cell_type": "code",
      "metadata": {
        "colab": {
          "base_uri": "https://localhost:8080/"
        },
        "id": "q0vGJJ0sjItk",
        "outputId": "7e12834c-a705-45da-98e2-24462df4e25d"
      },
      "source": [
        "mean_squared_error(y_test, y_pred_GB)"
      ],
      "execution_count": null,
      "outputs": [
        {
          "output_type": "execute_result",
          "data": {
            "text/plain": [
              "0.01467833712845744"
            ]
          },
          "metadata": {},
          "execution_count": 517
        }
      ]
    },
    {
      "cell_type": "code",
      "metadata": {
        "colab": {
          "base_uri": "https://localhost:8080/",
          "height": 295
        },
        "id": "zXIoslfdt89X",
        "outputId": "d0ae3839-4bd8-40d4-89e2-d2e08026a514"
      },
      "source": [
        "plt.scatter(y_test, y_pred_GB)\n",
        "x_vals = [0, 1]\n",
        "y_vals = [0, 1]\n",
        "plt.plot(x_vals, y_vals)\n",
        "plt.title('GB')\n",
        "plt.xlabel('True Values')\n",
        "plt.ylabel('Predictions')\n",
        "plt.show()"
      ],
      "execution_count": null,
      "outputs": [
        {
          "output_type": "display_data",
          "data": {
            "image/png": "[encoded data removed]",
            "text/plain": [
              "<Figure size 432x288 with 1 Axes>"
            ]
          },
          "metadata": {
            "needs_background": "light"
          }
        }
      ]
    },
    {
      "cell_type": "code",
      "metadata": {
        "id": "GOZ3Zb-8anKF"
      },
      "source": [
        "poly = PolynomialFeatures(2)"
      ],
      "execution_count": null,
      "outputs": []
    },
    {
      "cell_type": "code",
      "metadata": {
        "colab": {
          "base_uri": "https://localhost:8080/"
        },
        "id": "vnhjbPT6vSIy",
        "outputId": "ab6e67c6-6880-4b96-dd96-cf3e1425ef60"
      },
      "source": [
        "X_train.columns"
      ],
      "execution_count": null,
      "outputs": [
        {
          "output_type": "execute_result",
          "data": {
            "text/plain": [
              "Index(['Month', 'Temp', 'Raw_TP', 'PE_Flow', 'PE_SP', 'PE_fTP', 'SLBk',\n",
              "       't1_TP'],\n",
              "      dtype='object')"
            ]
          },
          "metadata": {},
          "execution_count": 447
        }
      ]
    },
    {
      "cell_type": "code",
      "metadata": {
        "id": "n6335umthYgL"
      },
      "source": [
        "#X_train_poly = poly.fit_transform(X_train[['PE_TP','Temp', 'Raw_TP', 'PE_flow', 'PE_BOD', 'SFE_TSS', 'SLBk']])\n",
        "X_train_poly = poly.fit_transform(X_train)"
      ],
      "execution_count": null,
      "outputs": []
    },
    {
      "cell_type": "code",
      "metadata": {
        "colab": {
          "base_uri": "https://localhost:8080/"
        },
        "id": "bmRDGX28j0Gr",
        "outputId": "d1624a62-6224-4f8f-aa3f-8d4d8ae58e96"
      },
      "source": [
        "X_train_poly.shape"
      ],
      "execution_count": null,
      "outputs": [
        {
          "output_type": "execute_result",
          "data": {
            "text/plain": [
              "(2373, 45)"
            ]
          },
          "metadata": {},
          "execution_count": 449
        }
      ]
    },
    {
      "cell_type": "code",
      "metadata": {
        "id": "Qr7zDeg1hsla"
      },
      "source": [
        "Poly_RModel = LinearRegression()"
      ],
      "execution_count": null,
      "outputs": []
    },
    {
      "cell_type": "code",
      "metadata": {
        "colab": {
          "base_uri": "https://localhost:8080/"
        },
        "id": "cBJYUaI0hyjF",
        "outputId": "906e49a8-a07c-4714-8014-41e95b2a7e3e"
      },
      "source": [
        "Poly_RModel.fit(X_train_poly, y_train)"
      ],
      "execution_count": null,
      "outputs": [
        {
          "output_type": "execute_result",
          "data": {
            "text/plain": [
              "LinearRegression()"
            ]
          },
          "metadata": {},
          "execution_count": 451
        }
      ]
    },
    {
      "cell_type": "code",
      "metadata": {
        "id": "0fsBilhaikuC"
      },
      "source": [
        "#X_test_poly = poly.fit_transform(X_test[['PE_TP','Temp', 'Raw_TP', 'PE_flow', 'PE_BOD', 'SFE_TSS', 'SLBk']])\n",
        "#X_test_poly=np.concatenate((X_test_poly, X_test[['Winter', 'Fall', 'Summer', 'Spring', 'Mn', 'Ts', 'Wed', 'Th','Sat', 'Sun']].values), axis = 1)\n",
        "X_test_poly = poly.fit_transform(X_test)\n",
        "\n",
        "y_pred_polyReg = Poly_RModel.predict(X_test_poly)"
      ],
      "execution_count": null,
      "outputs": []
    },
    {
      "cell_type": "code",
      "metadata": {
        "colab": {
          "base_uri": "https://localhost:8080/"
        },
        "id": "K7BjUlbfk6fK",
        "outputId": "d453bc42-889d-49f9-96fb-5e2deb1d0e9e"
      },
      "source": [
        "mean_squared_error(y_test,y_pred_polyReg)"
      ],
      "execution_count": null,
      "outputs": [
        {
          "output_type": "execute_result",
          "data": {
            "text/plain": [
              "0.014691359858304368"
            ]
          },
          "metadata": {},
          "execution_count": 453
        }
      ]
    },
    {
      "cell_type": "code",
      "metadata": {
        "colab": {
          "base_uri": "https://localhost:8080/",
          "height": 295
        },
        "id": "lMU8ifUSwZlk",
        "outputId": "2f78d083-38ab-4562-8491-2e9af9736879"
      },
      "source": [
        "plt.scatter(y_test, y_pred_GB)\n",
        "x_vals = [0, 1]\n",
        "y_vals = [0, 1]\n",
        "plt.plot(x_vals, y_vals)\n",
        "plt.title('polyReg')\n",
        "plt.xlabel('True Values')\n",
        "plt.ylabel('Predictions')\n",
        "plt.show()"
      ],
      "execution_count": null,
      "outputs": [
        {
          "output_type": "display_data",
          "data": {
            "image/png": "[encoded data removed]",
            "text/plain": [
              "<Figure size 432x288 with 1 Axes>"
            ]
          },
          "metadata": {
            "needs_background": "light"
          }
        }
      ]
    },
    {
      "cell_type": "code",
      "metadata": {
        "colab": {
          "base_uri": "https://localhost:8080/"
        },
        "id": "CDFW7mlsssq4",
        "outputId": "0aaa0a7b-3ce4-47d6-c69f-2b2af07e36de"
      },
      "source": [
        "y_pred_NN1.shape"
      ],
      "execution_count": null,
      "outputs": [
        {
          "output_type": "execute_result",
          "data": {
            "text/plain": [
              "(791, 1)"
            ]
          },
          "metadata": {},
          "execution_count": 455
        }
      ]
    },
    {
      "cell_type": "code",
      "metadata": {
        "colab": {
          "base_uri": "https://localhost:8080/"
        },
        "id": "CLum7UNBPsW_",
        "outputId": "3b87554b-a13d-4c1d-93a5-56b8ac257c77"
      },
      "source": [
        "y_pred_RF.shape"
      ],
      "execution_count": null,
      "outputs": [
        {
          "output_type": "execute_result",
          "data": {
            "text/plain": [
              "(791,)"
            ]
          },
          "metadata": {},
          "execution_count": 456
        }
      ]
    },
    {
      "cell_type": "code",
      "metadata": {
        "id": "iKAbu27crQkB"
      },
      "source": [
        "y_pred_merge = (y_pred_GB+y_pred_RF)/2"
      ],
      "execution_count": null,
      "outputs": []
    },
    {
      "cell_type": "code",
      "metadata": {
        "colab": {
          "base_uri": "https://localhost:8080/"
        },
        "id": "KrOzQ4igivYL",
        "outputId": "e3a01493-a676-4868-bcea-6f6332732e11"
      },
      "source": [
        "mean_squared_error(y_test,y_pred_merge)"
      ],
      "execution_count": null,
      "outputs": [
        {
          "output_type": "execute_result",
          "data": {
            "text/plain": [
              "0.014810871806279715"
            ]
          },
          "metadata": {},
          "execution_count": 458
        }
      ]
    },
    {
      "cell_type": "code",
      "metadata": {
        "colab": {
          "base_uri": "https://localhost:8080/"
        },
        "id": "OloVkfqKMJ21",
        "outputId": "eee6580d-cec1-42f0-c808-090419903223"
      },
      "source": [
        "#print(\"0.74 Lasso Regression\") # Lasso at the start\n",
        "print(round(m.score(X_test, y_test),3), \"Linear SVR\")\n",
        "print(round(m_SVR.score(X_test, y_test),3), \"RBF SVR\")\n",
        "print(round(LRModel.score(X_test, y_test),3), \"Linear Regression\")\n",
        "print(round(opt_model_EN.score(X_test,y_test),3), \"Elastic Net\")\n",
        "print(round(opt_model_GB.score(X_test, y_test),3),\"XG Boosting\")\n",
        "print(round(opt_model_RF.score(X_test, y_test),3), \"Random Forest Regressor\")\n",
        "print(round(Poly_RModel.score(X_test_poly, y_test),3),\"Polynomial Regression\")\n",
        "print(round(r2_score(y_test, y_pred_NN1),3),\"Vanilla Neural Network\")\n",
        "print(round(r2_score(y_test_LSTM, y_pred_lstm),3),\"LSTM network\")"
      ],
      "execution_count": null,
      "outputs": [
        {
          "output_type": "stream",
          "name": "stdout",
          "text": [
            "0.6 Linear SVR\n",
            "0.535 RBF SVR\n",
            "0.594 Linear Regression\n",
            "0.597 Elastic Net\n",
            "0.594 XG Boosting\n",
            "0.569 Random Forest Regressor\n",
            "0.593 Polynomial Regression\n",
            "0.58 Vanilla Neural Network\n",
            "0.595 LSTM network\n"
          ]
        }
      ]
    },
    {
      "cell_type": "code",
      "source": [
        "svr_preds = m_SVR.predict(X)"
      ],
      "metadata": {
        "id": "sa3YqbOfglKo"
      },
      "execution_count": null,
      "outputs": []
    }
  ]
}